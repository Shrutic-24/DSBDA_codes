{
 "cells": [
  {
   "cell_type": "markdown",
   "id": "1ad5c357",
   "metadata": {},
   "source": [
    "Problem statement 5:\n",
    "Perform the following operations on any open-source dataset (e.g., data.csv)\n",
    "1. Provide summary statistics (mean, median, minimum, maximum, standard deviation) for a\n",
    "dataset (age, income etc.) with numeric variables grouped by one of the qualitative (categorical)\n",
    "variable. For example, if your categorical variable is age groups and quantitative variable is\n",
    "income, then provide summary statistics of income grouped by the age groups. Create a list that\n",
    "contains a numeric value for each response to the categorical variable.\n"
   ]
  },
  {
   "cell_type": "code",
   "execution_count": 1,
   "id": "3dd98e59",
   "metadata": {},
   "outputs": [],
   "source": [
    "import pandas as pd\n",
    "import numpy as np\n",
    "import matplotlib.pyplot as plt"
   ]
  },
  {
   "cell_type": "code",
   "execution_count": 2,
   "id": "7013f3a5",
   "metadata": {},
   "outputs": [
    {
     "data": {
      "text/html": [
       "<div>\n",
       "<style scoped>\n",
       "    .dataframe tbody tr th:only-of-type {\n",
       "        vertical-align: middle;\n",
       "    }\n",
       "\n",
       "    .dataframe tbody tr th {\n",
       "        vertical-align: top;\n",
       "    }\n",
       "\n",
       "    .dataframe thead th {\n",
       "        text-align: right;\n",
       "    }\n",
       "</style>\n",
       "<table border=\"1\" class=\"dataframe\">\n",
       "  <thead>\n",
       "    <tr style=\"text-align: right;\">\n",
       "      <th></th>\n",
       "      <th>gender</th>\n",
       "      <th>race/ethnicity</th>\n",
       "      <th>parental level of education</th>\n",
       "      <th>lunch</th>\n",
       "      <th>test preparation course</th>\n",
       "      <th>math score</th>\n",
       "      <th>reading score</th>\n",
       "      <th>writing score</th>\n",
       "    </tr>\n",
       "  </thead>\n",
       "  <tbody>\n",
       "    <tr>\n",
       "      <th>0</th>\n",
       "      <td>female</td>\n",
       "      <td>group B</td>\n",
       "      <td>bachelor's degree</td>\n",
       "      <td>standard</td>\n",
       "      <td>none</td>\n",
       "      <td>72.0</td>\n",
       "      <td>72.0</td>\n",
       "      <td>74.0</td>\n",
       "    </tr>\n",
       "    <tr>\n",
       "      <th>1</th>\n",
       "      <td>female</td>\n",
       "      <td>group C</td>\n",
       "      <td>some college</td>\n",
       "      <td>standard</td>\n",
       "      <td>completed</td>\n",
       "      <td>69.0</td>\n",
       "      <td>90.0</td>\n",
       "      <td>88.0</td>\n",
       "    </tr>\n",
       "    <tr>\n",
       "      <th>2</th>\n",
       "      <td>female</td>\n",
       "      <td>group B</td>\n",
       "      <td>master's degree</td>\n",
       "      <td>standard</td>\n",
       "      <td>none</td>\n",
       "      <td>90.0</td>\n",
       "      <td>95.0</td>\n",
       "      <td>93.0</td>\n",
       "    </tr>\n",
       "    <tr>\n",
       "      <th>3</th>\n",
       "      <td>male</td>\n",
       "      <td>group A</td>\n",
       "      <td>associate's degree</td>\n",
       "      <td>free/reduced</td>\n",
       "      <td>none</td>\n",
       "      <td>47.0</td>\n",
       "      <td>57.0</td>\n",
       "      <td>44.0</td>\n",
       "    </tr>\n",
       "    <tr>\n",
       "      <th>4</th>\n",
       "      <td>male</td>\n",
       "      <td>group C</td>\n",
       "      <td>some college</td>\n",
       "      <td>standard</td>\n",
       "      <td>none</td>\n",
       "      <td>76.0</td>\n",
       "      <td>78.0</td>\n",
       "      <td>75.0</td>\n",
       "    </tr>\n",
       "  </tbody>\n",
       "</table>\n",
       "</div>"
      ],
      "text/plain": [
       "   gender race/ethnicity parental level of education         lunch  \\\n",
       "0  female        group B           bachelor's degree      standard   \n",
       "1  female        group C                some college      standard   \n",
       "2  female        group B             master's degree      standard   \n",
       "3    male        group A          associate's degree  free/reduced   \n",
       "4    male        group C                some college      standard   \n",
       "\n",
       "  test preparation course  math score  reading score  writing score  \n",
       "0                    none        72.0           72.0           74.0  \n",
       "1               completed        69.0           90.0           88.0  \n",
       "2                    none        90.0           95.0           93.0  \n",
       "3                    none        47.0           57.0           44.0  \n",
       "4                    none        76.0           78.0           75.0  "
      ]
     },
     "execution_count": 2,
     "metadata": {},
     "output_type": "execute_result"
    }
   ],
   "source": [
    "df=pd.read_csv('StudentPerformance.csv')\n",
    "df.head(5)"
   ]
  },
  {
   "cell_type": "code",
   "execution_count": 3,
   "id": "4c1e843f",
   "metadata": {},
   "outputs": [
    {
     "data": {
      "text/plain": [
       "gender                          0\n",
       "race/ethnicity                  0\n",
       "parental level of education     0\n",
       "lunch                           0\n",
       "test preparation course         0\n",
       "math score                     10\n",
       "reading score                  15\n",
       "writing score                  11\n",
       "dtype: int64"
      ]
     },
     "execution_count": 3,
     "metadata": {},
     "output_type": "execute_result"
    }
   ],
   "source": [
    "df.isnull().sum()"
   ]
  },
  {
   "cell_type": "code",
   "execution_count": 4,
   "id": "8559bed2",
   "metadata": {},
   "outputs": [],
   "source": [
    "scores = ['math score','reading score','writing score']\n",
    "for score in scores:\n",
    "    df[score].fillna(df[score].mean() , inplace = True)"
   ]
  },
  {
   "cell_type": "code",
   "execution_count": 5,
   "id": "12b68fc1",
   "metadata": {},
   "outputs": [
    {
     "data": {
      "text/plain": [
       "gender                         0\n",
       "race/ethnicity                 0\n",
       "parental level of education    0\n",
       "lunch                          0\n",
       "test preparation course        0\n",
       "math score                     0\n",
       "reading score                  0\n",
       "writing score                  0\n",
       "dtype: int64"
      ]
     },
     "execution_count": 5,
     "metadata": {},
     "output_type": "execute_result"
    }
   ],
   "source": [
    "df.isnull().sum()"
   ]
  },
  {
   "cell_type": "code",
   "execution_count": 12,
   "id": "3a1eb7af",
   "metadata": {},
   "outputs": [
    {
     "data": {
      "text/plain": [
       "array(['female', 'male', 'f'], dtype=object)"
      ]
     },
     "execution_count": 12,
     "metadata": {},
     "output_type": "execute_result"
    }
   ],
   "source": [
    "df['gender'].unique()"
   ]
  },
  {
   "cell_type": "code",
   "execution_count": 13,
   "id": "6c9a5b59",
   "metadata": {},
   "outputs": [
    {
     "data": {
      "text/plain": [
       "array(['female', 'male'], dtype=object)"
      ]
     },
     "execution_count": 13,
     "metadata": {},
     "output_type": "execute_result"
    }
   ],
   "source": [
    "df['gender'].replace('f','female',inplace=True)\n",
    "df['gender'].unique()"
   ]
  },
  {
   "cell_type": "code",
   "execution_count": 14,
   "id": "a081602a",
   "metadata": {},
   "outputs": [
    {
     "data": {
      "text/html": [
       "<div>\n",
       "<style scoped>\n",
       "    .dataframe tbody tr th:only-of-type {\n",
       "        vertical-align: middle;\n",
       "    }\n",
       "\n",
       "    .dataframe tbody tr th {\n",
       "        vertical-align: top;\n",
       "    }\n",
       "\n",
       "    .dataframe thead th {\n",
       "        text-align: right;\n",
       "    }\n",
       "</style>\n",
       "<table border=\"1\" class=\"dataframe\">\n",
       "  <thead>\n",
       "    <tr style=\"text-align: right;\">\n",
       "      <th></th>\n",
       "      <th>mean</th>\n",
       "      <th>median</th>\n",
       "      <th>std</th>\n",
       "      <th>min</th>\n",
       "      <th>max</th>\n",
       "    </tr>\n",
       "    <tr>\n",
       "      <th>gender</th>\n",
       "      <th></th>\n",
       "      <th></th>\n",
       "      <th></th>\n",
       "      <th></th>\n",
       "      <th></th>\n",
       "    </tr>\n",
       "  </thead>\n",
       "  <tbody>\n",
       "    <tr>\n",
       "      <th>female</th>\n",
       "      <td>63.735198</td>\n",
       "      <td>65.0</td>\n",
       "      <td>15.359470</td>\n",
       "      <td>0.0</td>\n",
       "      <td>100.0</td>\n",
       "    </tr>\n",
       "    <tr>\n",
       "      <th>male</th>\n",
       "      <td>68.865661</td>\n",
       "      <td>69.0</td>\n",
       "      <td>14.206238</td>\n",
       "      <td>27.0</td>\n",
       "      <td>100.0</td>\n",
       "    </tr>\n",
       "  </tbody>\n",
       "</table>\n",
       "</div>"
      ],
      "text/plain": [
       "             mean  median        std   min    max\n",
       "gender                                           \n",
       "female  63.735198    65.0  15.359470   0.0  100.0\n",
       "male    68.865661    69.0  14.206238  27.0  100.0"
      ]
     },
     "execution_count": 14,
     "metadata": {},
     "output_type": "execute_result"
    }
   ],
   "source": [
    "summary_stats=df.groupby('gender')['math score'].agg([\"mean\",\"median\",\"std\",\"min\",\"max\"])\n",
    "summary_stats"
   ]
  },
  {
   "cell_type": "code",
   "execution_count": 19,
   "id": "04b1a764",
   "metadata": {},
   "outputs": [
    {
     "name": "stdout",
     "output_type": "stream",
     "text": [
      "----  math score  ----\n",
      "                     mean  median        std   min    max\n",
      "race/ethnicity                                           \n",
      "group A         61.629213    61.0  14.523008  28.0  100.0\n",
      "group B         63.735960    64.0  15.109697   8.0   97.0\n",
      "group C         64.474659    65.0  14.849018   0.0   98.0\n",
      "group D         67.598597    68.5  13.509842  26.0  100.0\n",
      "group E         73.821429    74.5  15.534259  30.0  100.0\n",
      "\n",
      "\n",
      "----  reading score  ----\n",
      "                     mean  median        std   min    max\n",
      "race/ethnicity                                           \n",
      "group A         64.879348    64.0  15.481612  23.0  100.0\n",
      "group B         67.493609    67.5  15.045971  24.0   97.0\n",
      "group C         69.192193    71.0  13.932966  17.0  100.0\n",
      "group D         70.115686    70.0  13.826403  31.0  100.0\n",
      "group E         73.009014    74.0  14.877186  26.0  100.0\n",
      "\n",
      "\n",
      "----  writing score  ----\n",
      "                     mean     median        std   min    max\n",
      "race/ethnicity                                              \n",
      "group A         62.900478  63.000000  15.398334  19.0   97.0\n",
      "group B         65.796238  67.000000  15.493008  15.0   96.0\n",
      "group C         67.939092  68.142568  14.886246  10.0  100.0\n",
      "group D         70.116136  71.500000  14.357346  32.0  100.0\n",
      "group E         71.429590  72.000000  15.106654  22.0  100.0\n",
      "\n",
      "\n"
     ]
    }
   ],
   "source": [
    "# taking Race as categorical variable and scores as indepedent variable\n",
    "scores = ['math score' ,  'reading score' , 'writing score']\n",
    "for score in scores:\n",
    "    summary_stats=df.groupby('race/ethnicity')[score].agg(['mean','median','std','min','max'])\n",
    "    print(\"---- \" , score , \" ----\") \n",
    "    print(summary_stats)\n",
    "    print(\"\\n\")"
   ]
  },
  {
   "cell_type": "markdown",
   "id": "758ecacc",
   "metadata": {},
   "source": [
    "Problem statement 6:\n",
    "Write a Python program to display some basic statistical details like percentile, mean, standard\n",
    "deviation etc. of the species of ‘Iris-setosa’, ‘Iris-versicolor’ and ‘Iris- verginica’ of iris.csv\n",
    "dataset. Grouped by one of the qualitative (categorical) variable from the dataset"
   ]
  },
  {
   "cell_type": "code",
   "execution_count": 21,
   "id": "e1be93b8",
   "metadata": {},
   "outputs": [
    {
     "data": {
      "text/html": [
       "<div>\n",
       "<style scoped>\n",
       "    .dataframe tbody tr th:only-of-type {\n",
       "        vertical-align: middle;\n",
       "    }\n",
       "\n",
       "    .dataframe tbody tr th {\n",
       "        vertical-align: top;\n",
       "    }\n",
       "\n",
       "    .dataframe thead th {\n",
       "        text-align: right;\n",
       "    }\n",
       "</style>\n",
       "<table border=\"1\" class=\"dataframe\">\n",
       "  <thead>\n",
       "    <tr style=\"text-align: right;\">\n",
       "      <th></th>\n",
       "      <th>Id</th>\n",
       "      <th>SepalLengthCm</th>\n",
       "      <th>SepalWidthCm</th>\n",
       "      <th>PetalLengthCm</th>\n",
       "      <th>PetalWidthCm</th>\n",
       "      <th>Species</th>\n",
       "    </tr>\n",
       "  </thead>\n",
       "  <tbody>\n",
       "    <tr>\n",
       "      <th>0</th>\n",
       "      <td>1</td>\n",
       "      <td>5.1</td>\n",
       "      <td>3.5</td>\n",
       "      <td>1.4</td>\n",
       "      <td>0.2</td>\n",
       "      <td>Iris-setosa</td>\n",
       "    </tr>\n",
       "    <tr>\n",
       "      <th>1</th>\n",
       "      <td>2</td>\n",
       "      <td>4.9</td>\n",
       "      <td>3.0</td>\n",
       "      <td>1.4</td>\n",
       "      <td>0.2</td>\n",
       "      <td>Iris-setosa</td>\n",
       "    </tr>\n",
       "    <tr>\n",
       "      <th>2</th>\n",
       "      <td>3</td>\n",
       "      <td>4.7</td>\n",
       "      <td>3.2</td>\n",
       "      <td>1.3</td>\n",
       "      <td>0.2</td>\n",
       "      <td>Iris-setosa</td>\n",
       "    </tr>\n",
       "  </tbody>\n",
       "</table>\n",
       "</div>"
      ],
      "text/plain": [
       "   Id  SepalLengthCm  SepalWidthCm  PetalLengthCm  PetalWidthCm      Species\n",
       "0   1            5.1           3.5            1.4           0.2  Iris-setosa\n",
       "1   2            4.9           3.0            1.4           0.2  Iris-setosa\n",
       "2   3            4.7           3.2            1.3           0.2  Iris-setosa"
      ]
     },
     "execution_count": 21,
     "metadata": {},
     "output_type": "execute_result"
    }
   ],
   "source": [
    "df1=pd.read_csv('Iris.csv')\n",
    "df1.head(3)"
   ]
  },
  {
   "cell_type": "code",
   "execution_count": 22,
   "id": "7c8c6daf",
   "metadata": {},
   "outputs": [
    {
     "data": {
      "text/plain": [
       "(150, 6)"
      ]
     },
     "execution_count": 22,
     "metadata": {},
     "output_type": "execute_result"
    }
   ],
   "source": [
    "df1.shape"
   ]
  },
  {
   "cell_type": "code",
   "execution_count": 23,
   "id": "447107f5",
   "metadata": {},
   "outputs": [],
   "source": [
    "id_intervals=[0,50,100,150]\n",
    "id_label=['0-50','51-100','101-150']"
   ]
  },
  {
   "cell_type": "code",
   "execution_count": 24,
   "id": "fd391a36",
   "metadata": {},
   "outputs": [
    {
     "data": {
      "text/html": [
       "<div>\n",
       "<style scoped>\n",
       "    .dataframe tbody tr th:only-of-type {\n",
       "        vertical-align: middle;\n",
       "    }\n",
       "\n",
       "    .dataframe tbody tr th {\n",
       "        vertical-align: top;\n",
       "    }\n",
       "\n",
       "    .dataframe thead th {\n",
       "        text-align: right;\n",
       "    }\n",
       "</style>\n",
       "<table border=\"1\" class=\"dataframe\">\n",
       "  <thead>\n",
       "    <tr style=\"text-align: right;\">\n",
       "      <th></th>\n",
       "      <th>mean</th>\n",
       "      <th>median</th>\n",
       "      <th>min</th>\n",
       "      <th>max</th>\n",
       "      <th>std</th>\n",
       "    </tr>\n",
       "    <tr>\n",
       "      <th>id_group</th>\n",
       "      <th></th>\n",
       "      <th></th>\n",
       "      <th></th>\n",
       "      <th></th>\n",
       "      <th></th>\n",
       "    </tr>\n",
       "  </thead>\n",
       "  <tbody>\n",
       "    <tr>\n",
       "      <th>0-50</th>\n",
       "      <td>5.006122</td>\n",
       "      <td>5.0</td>\n",
       "      <td>4.3</td>\n",
       "      <td>5.8</td>\n",
       "      <td>0.356141</td>\n",
       "    </tr>\n",
       "    <tr>\n",
       "      <th>51-100</th>\n",
       "      <td>5.922000</td>\n",
       "      <td>5.9</td>\n",
       "      <td>4.9</td>\n",
       "      <td>7.0</td>\n",
       "      <td>0.531954</td>\n",
       "    </tr>\n",
       "    <tr>\n",
       "      <th>101-150</th>\n",
       "      <td>6.584000</td>\n",
       "      <td>6.5</td>\n",
       "      <td>4.9</td>\n",
       "      <td>7.9</td>\n",
       "      <td>0.640905</td>\n",
       "    </tr>\n",
       "  </tbody>\n",
       "</table>\n",
       "</div>"
      ],
      "text/plain": [
       "              mean  median  min  max       std\n",
       "id_group                                      \n",
       "0-50      5.006122     5.0  4.3  5.8  0.356141\n",
       "51-100    5.922000     5.9  4.9  7.0  0.531954\n",
       "101-150   6.584000     6.5  4.9  7.9  0.640905"
      ]
     },
     "execution_count": 24,
     "metadata": {},
     "output_type": "execute_result"
    }
   ],
   "source": [
    "df1['id_group'] = pd.cut(df1['Id'] , bins = id_intervals , labels = id_label , right = False)\n",
    "\n",
    "summary_stats = df1.groupby(\"id_group\")['SepalLengthCm'].agg(['mean' , 'median' , 'min' , 'max' , 'std'])\n",
    "\n",
    "summary_stats"
   ]
  },
  {
   "cell_type": "code",
   "execution_count": 33,
   "id": "f5347690",
   "metadata": {},
   "outputs": [],
   "source": [
    "#Mean:\n",
    "def mean(df):\n",
    "    return sum(df)/len(df)"
   ]
  },
  {
   "cell_type": "code",
   "execution_count": 35,
   "id": "0a97a15d",
   "metadata": {},
   "outputs": [],
   "source": [
    "#std\n",
    "import math\n",
    "def std(df):\n",
    "    sm=0\n",
    "    for i in range(len(df)):\n",
    "        sm+=df[i]\n",
    "        mean=sm/len(df)\n",
    "        \n",
    "        deviation_sum=0\n",
    "        for i in range(len(df)):\n",
    "            deviation_sum+=(data[i]- mean)**2\n",
    "            psd = math.sqrt((deviation_sum)/len(data))\n",
    "    return psd"
   ]
  },
  {
   "cell_type": "code",
   "execution_count": 36,
   "id": "8b740ddd",
   "metadata": {},
   "outputs": [],
   "source": [
    "#mode\n",
    "from collections import Counter\n",
    "def mode(data):\n",
    "    c=Counter(data)\n",
    "    return[k for k,v in c.items() if v==c.most_common(1)[0][1]]"
   ]
  },
  {
   "cell_type": "code",
   "execution_count": null,
   "id": "ab8d507d",
   "metadata": {},
   "outputs": [],
   "source": []
  }
 ],
 "metadata": {
  "kernelspec": {
   "display_name": "Python 3 (ipykernel)",
   "language": "python",
   "name": "python3"
  },
  "language_info": {
   "codemirror_mode": {
    "name": "ipython",
    "version": 3
   },
   "file_extension": ".py",
   "mimetype": "text/x-python",
   "name": "python",
   "nbconvert_exporter": "python",
   "pygments_lexer": "ipython3",
   "version": "3.10.4"
  }
 },
 "nbformat": 4,
 "nbformat_minor": 5
}
